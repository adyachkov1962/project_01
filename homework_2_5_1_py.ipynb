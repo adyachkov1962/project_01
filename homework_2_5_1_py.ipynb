{
  "nbformat": 4,
  "nbformat_minor": 0,
  "metadata": {
    "colab": {
      "provenance": [],
      "authorship_tag": "ABX9TyNBgEPAMiUHBgGznMjSjx8d",
      "include_colab_link": true
    },
    "kernelspec": {
      "name": "python3",
      "display_name": "Python 3"
    },
    "language_info": {
      "name": "python"
    }
  },
  "cells": [
    {
      "cell_type": "markdown",
      "metadata": {
        "id": "view-in-github",
        "colab_type": "text"
      },
      "source": [
        "<a href=\"https://colab.research.google.com/github/adyachkov1962/project_01/blob/main/homework_2_5_1_py.ipynb\" target=\"_parent\"><img src=\"https://colab.research.google.com/assets/colab-badge.svg\" alt=\"Open In Colab\"/></a>"
      ]
    },
    {
      "cell_type": "markdown",
      "source": [
        "Приведем список покупок в магазине\n",
        "\n",
        "shop_list = ['Картофель', 'Горошек', 'Рис', 'Хлеб']\n",
        "\n",
        "Измените список согласно пунктам задания\n",
        "\n",
        "Выведите результат каждого пункта на консоль по очереди\n",
        "\n",
        "а. Вставьте рыбу между горошком и рисом\n",
        "\n",
        "b. Добавьте фрукты из списка fruits в конец списка shop_list\n",
        "\n",
        "fruits = ['Яблоко', 'Апельсин', 'Клубника']\n",
        "\n",
        "c. Удалите из списка shop_list картофель\n",
        "\n",
        "d. Какими по счету стоят хлеб и апельсин? Выведите номера на\n",
        "\n",
        "консоль в формате\n",
        "\n",
        "Номер \"продукта\" в списке - N"
      ],
      "metadata": {
        "id": "nNhPomWE-NMm"
      }
    },
    {
      "cell_type": "code",
      "source": [
        "shop_list = ['Картофель', 'Горошек', 'Рис', 'Хлеб']\n",
        "print(shop_list)\n",
        "shop_list.insert(2, 'Рыба')\n",
        "print(shop_list)\n",
        "fruits = ['Яблоко', 'Апельсин', 'Клубника']\n",
        "shop_list.extend(fruits)\n",
        "print(shop_list)\n",
        "shop_list.remove('Картофель')\n",
        "print(shop_list)\n",
        "print('Номер Хлеба в списке - ', shop_list.index('Хлеб') + 1)\n",
        "print('Номер Апельсина в списке - ', shop_list.index('Апельсин') + 1)"
      ],
      "metadata": {
        "colab": {
          "base_uri": "https://localhost:8080/"
        },
        "id": "BFpI6VjSn5hF",
        "outputId": "a46dc93e-685a-4bdb-e23b-36faad620279"
      },
      "execution_count": null,
      "outputs": [
        {
          "output_type": "stream",
          "name": "stdout",
          "text": [
            "['Картофель', 'Горошек', 'Рис', 'Хлеб']\n",
            "['Картофель', 'Горошек', 'Рыба', 'Рис', 'Хлеб']\n",
            "['Картофель', 'Горошек', 'Рыба', 'Рис', 'Хлеб', 'Яблоко', 'Апельсин', 'Клубника']\n",
            "['Горошек', 'Рыба', 'Рис', 'Хлеб', 'Яблоко', 'Апельсин', 'Клубника']\n",
            "Номер Хлеба в списке -  4\n",
            "Номер Апельсина в списке -  6\n"
          ]
        }
      ]
    }
  ]
}